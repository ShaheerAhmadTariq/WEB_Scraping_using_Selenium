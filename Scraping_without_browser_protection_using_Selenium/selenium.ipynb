{
 "cells": [
  {
   "cell_type": "code",
   "execution_count": 12,
   "metadata": {},
   "outputs": [],
   "source": [
    "from selenium import webdriver\n",
    "from selenium.webdriver.common.by import By\n",
    "from selenium.webdriver.support.ui import WebDriverWait\n",
    "from selenium.webdriver.support import expected_conditions as EC\n",
    "import pprint"
   ]
  },
  {
   "cell_type": "code",
   "execution_count": 15,
   "metadata": {},
   "outputs": [],
   "source": [
    "driver = webdriver.Firefox()\n",
    "driver.get(\"https://www.analog.com/en/products.html\")"
   ]
  },
  {
   "attachments": {},
   "cell_type": "markdown",
   "metadata": {},
   "source": [
    "#### To click accept all for cookie consent"
   ]
  },
  {
   "cell_type": "code",
   "execution_count": 16,
   "metadata": {},
   "outputs": [],
   "source": [
    "driver.find_element(By.XPATH, '//a[text()=\" Accept All \"]').click()\n"
   ]
  },
  {
   "attachments": {},
   "cell_type": "markdown",
   "metadata": {},
   "source": [
    "#### To find all categories"
   ]
  },
  {
   "cell_type": "code",
   "execution_count": 48,
   "metadata": {},
   "outputs": [],
   "source": [
    "categories = driver.find_elements(By.CLASS_NAME, 'prodsubcat')"
   ]
  },
  {
   "cell_type": "code",
   "execution_count": 49,
   "metadata": {},
   "outputs": [
    {
     "name": "stdout",
     "output_type": "stream",
     "text": [
      "Amplifiers\n",
      "Analog Functions\n",
      "A/D Converters (ADC)\n",
      "Audio Products\n",
      "Clock and Timing\n",
      "D/A Converters (DAC)\n",
      "Embedded Security and 1-Wire\n",
      "High Speed Logic and Data Path Management\n",
      "iButton and Memory\n",
      "Industrial Ethernet Solutions\n",
      "Interface and Isolation\n",
      "Power Monitor, Control, and Protection\n",
      "Optical Communications and Sensing\n",
      "Power Management\n",
      "Processors and Microcontrollers\n",
      "RF and Microwave\n",
      "Sensors and MEMS\n",
      "Switches and Multiplexers\n",
      "Video Products\n"
     ]
    },
    {
     "data": {
      "text/plain": [
       "19"
      ]
     },
     "execution_count": 49,
     "metadata": {},
     "output_type": "execute_result"
    }
   ],
   "source": [
    "for category in categories:\n",
    "    print(category.text)\n",
    "len(categories)"
   ]
  },
  {
   "attachments": {},
   "cell_type": "markdown",
   "metadata": {},
   "source": [
    "#### To find subcategories"
   ]
  },
  {
   "cell_type": "code",
   "execution_count": 84,
   "metadata": {},
   "outputs": [],
   "source": [
    "categories_Dict = {}\n",
    "for category in categories:\n",
    "    parent_node = category.find_element(By.XPATH, \"..\")\n",
    "    grand_parent = parent_node.find_element(By.XPATH, \"..\")\n",
    "    great_grand_parent = grand_parent.find_element(By.XPATH, \"..\")\n",
    "    subcategories = great_grand_parent.find_elements(By.XPATH, \".//ul/li\")\n",
    "    categories_Dict[category.text] = []\n",
    "    \n",
    "    for subcategorie in subcategories:\n",
    "        categories_Dict[category.text].append(subcategorie.text)\n",
    "   "
   ]
  },
  {
   "cell_type": "code",
   "execution_count": 92,
   "metadata": {},
   "outputs": [
    {
     "name": "stdout",
     "output_type": "stream",
     "text": [
      "{'A/D Converters (ADC)': ['High Speed A/D Converters >10 MSPS',\n",
      "                          'Integrated/Special Purpose A/D Converters',\n",
      "                          'Precision A/D Converters'],\n",
      " 'Amplifiers': ['Differential Amplifiers and ADC Drivers',\n",
      "                'Instrumentation Amplifiers',\n",
      "                'Isolation Amplifiers',\n",
      "                'Operational Amplifiers (Op Amps)',\n",
      "                'RF Amplifiers',\n",
      "                'RF Power Detectors',\n",
      "                'Specialty Amplifiers',\n",
      "                'Variable Gain Amplifiers (VGA)'],\n",
      " 'Analog Functions': ['Analog Multipliers & Dividers',\n",
      "                      'Comparators',\n",
      "                      'Current Mirrors',\n",
      "                      'Filters',\n",
      "                      'Matched Transistors',\n",
      "                      'Precision Modulators/Demodulators',\n",
      "                      'Precision Resistor Network',\n",
      "                      'RMS to DC Converters',\n",
      "                      'Switched Cap Building Blocks',\n",
      "                      'Voltage References'],\n",
      " 'Audio Products': ['Audio A/D Converters',\n",
      "                    'Audio Amplifiers',\n",
      "                    'Audio CODECs',\n",
      "                    'Audio D/A Converters',\n",
      "                    'Audio Jack Detectors',\n",
      "                    'Audio Routing (Unbuffered)',\n",
      "                    'Audio Signal Processors',\n",
      "                    'Automotive Audio Bus (A2B®)',\n",
      "                    'Click-Pop Suppressors',\n",
      "                    'Volume Control Devices'],\n",
      " 'Clock and Timing': ['Clock and Data Recovery/Retiming',\n",
      "                      'Clock Generation and Distribution',\n",
      "                      'Counters, Timers and Delay Linear',\n",
      "                      'Direct Digital Synthesis (DDS)',\n",
      "                      'Oscillator Modules (TCXO, DTCXO, VCXO, XO)',\n",
      "                      'Phase Locked Loop (PLL) Synthesizer & Translation Loop',\n",
      "                      'Real-Time Clocks',\n",
      "                      'Silicon Oscillators'],\n",
      " 'D/A Converters (DAC)': ['Digital Potentiometers (DigiPOT)',\n",
      "                          'High Speed D/A Converters ≥30MSPS',\n",
      "                          'Integrated/Special Purpose D/A Converters',\n",
      "                          'Precision D/A Converters'],\n",
      " 'Embedded Security and 1-Wire': ['1-Wire Devices',\n",
      "                                  'NFC/RFID Products',\n",
      "                                  'Secure Authenticators',\n",
      "                                  'Secure Microcontrollers',\n",
      "                                  'Security Managers'],\n",
      " 'High Speed Logic and Data Path Management': ['Data Path Management',\n",
      "                                               'Logic Devices'],\n",
      " 'Industrial Ethernet Solutions': ['Industrial Ethernet Embedded Switches',\n",
      "                                   'Industrial Ethernet Physical Layer Devices',\n",
      "                                   'Industrial Ethernet Platform Solutions'],\n",
      " 'Interface and Isolation': ['4-20mA',\n",
      "                             'AppleTalk and IrDA Transceivers',\n",
      "                             'Automotive Interfaces (CAN, Audio)',\n",
      "                             'Broadband Switches',\n",
      "                             'Controllers/Expanders',\n",
      "                             'Home Bus Transceivers (HomeBus TxRx)',\n",
      "                             'Industrial I/O',\n",
      "                             'IO-Link',\n",
      "                             'IOS Subsystems',\n",
      "                             'Digital Isolation Technology',\n",
      "                             'Level Translators',\n",
      "                             'Local Interconnect Transceivers (LIN TxRx)',\n",
      "                             'LVDS/MLVDS',\n",
      "                             'Multiprotocol Transceivers',\n",
      "                             'Powerline Communications',\n",
      "                             'RS-232 / RS-422 / RS-485 / RS-562',\n",
      "                             'Serial Bus Buffers, Extenders, and Accelerators',\n",
      "                             'Signal Integrity',\n",
      "                             'Signal Line Protection',\n",
      "                             'SIM Interface',\n",
      "                             'USB Products'],\n",
      " 'Optical Communications and Sensing': ['Fiber Optic Control',\n",
      "                                        'Fiber Optic Data',\n",
      "                                        'Optical Sensing Technology'],\n",
      " 'Power Management': ['Battery Management',\n",
      "                      'Current Sources',\n",
      "                      'Display Control and Power',\n",
      "                      'Energy Harvesting',\n",
      "                      'Inductorless (Charge Pump) DC/DC Converters',\n",
      "                      'isoPower',\n",
      "                      'LDO Linear Regulators',\n",
      "                      'LED Driver IC',\n",
      "                      'PMIC and Multifunction',\n",
      "                      'Smart Power Stages (FET and FET Driver)',\n",
      "                      'Supercapacitor Chargers',\n",
      "                      'Switching Regulators',\n",
      "                      'µModule Regulators',\n",
      "                      'Xenon Photoflash Charger'],\n",
      " 'Power Monitor, Control, and Protection': ['Cable Drop Compensation',\n",
      "                                            'Current Limit Switches',\n",
      "                                            'Digital Power System Management',\n",
      "                                            'Energy Monitors',\n",
      "                                            'High-Side Switches and MOSFET '\n",
      "                                            'Drivers',\n",
      "                                            'Hot Swap Controllers',\n",
      "                                            'Ideal Diode Bridge',\n",
      "                                            'Isolated Gate Drivers',\n",
      "                                            'Nonvolatile RAM Controllers',\n",
      "                                            'Power Control',\n",
      "                                            'Power Monitors',\n",
      "                                            'Power-over-Ethernet (PoE) '\n",
      "                                            'Interface Controllers',\n",
      "                                            'PowerPath, Ideal Diodes, and Load '\n",
      "                                            'Switches',\n",
      "                                            'Power-Plane/CardBus Switches',\n",
      "                                            'Pushbutton Controllers',\n",
      "                                            'Relay Drivers',\n",
      "                                            'Sequencers, Trackers, and '\n",
      "                                            'Margining Controllers',\n",
      "                                            'Smart Power Stages (FET and FET '\n",
      "                                            'Driver)',\n",
      "                                            'Supervisory Circuits',\n",
      "                                            'Surge Stopper, Overvoltage, and '\n",
      "                                            'Overcurrent Protection',\n",
      "                                            'Thermoelectric Cooler Controller',\n",
      "                                            'USB Power Switches'],\n",
      " 'Processors and Microcontrollers': ['Microcontrollers',\n",
      "                                     'Processors and DSP',\n",
      "                                     'Sensor Hubs',\n",
      "                                     'Vision Sensing Algorithms'],\n",
      " 'RF and Microwave': ['Attenuators',\n",
      "                      'Communications Analog Front Ends',\n",
      "                      'Direct Digital Synthesis (DDS)',\n",
      "                      'Frequency Dividers, Multipliers, and Detectors',\n",
      "                      'RF Integrated Transmitters, Receivers, and Transceivers',\n",
      "                      'I/Q Modulators and Demodulators',\n",
      "                      'RF Mixers',\n",
      "                      'Phase Locked Loop (PLL) Synthesizer & Translation Loop',\n",
      "                      'Beamformers, Phase Shifters, and Vector Modulators',\n",
      "                      'Quadrature Digital Up Converters (QDUC)',\n",
      "                      'RF Amplifiers',\n",
      "                      'RF Connectorized Modules and Instrumentation',\n",
      "                      'RF Power Detectors',\n",
      "                      'RF Predistortion Ics',\n",
      "                      'RF Switches',\n",
      "                      'Timing IC and Clock IC',\n",
      "                      'Tunable Filters',\n",
      "                      'Variable Gain Amplifiers (VGA)',\n",
      "                      'Voltage Controlled Oscillators (VCO)',\n",
      "                      'Wireless Sensor Networks'],\n",
      " 'Sensors and MEMS': ['Accelerometers',\n",
      "                      'Accelerometers - Special Purpose',\n",
      "                      'Bio-Sensors',\n",
      "                      'Electrochemical Sensors',\n",
      "                      'Gesture Sensors',\n",
      "                      'Gyroscopes',\n",
      "                      'Inertial Measurement Units (IMU)',\n",
      "                      'Magnetic Field Sensors',\n",
      "                      'Optical Sensing Technology',\n",
      "                      'Sensor Hubs',\n",
      "                      'Temperature Sensor and Control Devices'],\n",
      " 'Switches and Multiplexers': ['Analog Switches Multiplexers',\n",
      "                               'Buffered Analog Crosspoint Switches',\n",
      "                               'Buffered Analog Multiplexers',\n",
      "                               'Digital Crosspoint Switches',\n",
      "                               'Level Translators',\n",
      "                               'MEMS Switches',\n",
      "                               'Relay Drivers',\n",
      "                               'RF Switches',\n",
      "                               'Robust Switches and Multiplexers',\n",
      "                               'Unbuffered Analog Crosspoint Array'],\n",
      " 'Video Products': ['Car Camera Bus (C2B)',\n",
      "                    'CCD and Imaging Front Ends',\n",
      "                    'Display Driver Electronics',\n",
      "                    'HDMI/DVI Devices',\n",
      "                    'Lens Driver Components',\n",
      "                    'MIPI Video Devices',\n",
      "                    'Sample Rate Converters',\n",
      "                    'Video Amplifiers and Analog Video Functions',\n",
      "                    'Video CODECs',\n",
      "                    'Video Compression',\n",
      "                    'Video Decoders',\n",
      "                    'Video Encoders'],\n",
      " 'iButton and Memory': ['iButton Devices and Accessories', 'Memory IC']}\n"
     ]
    }
   ],
   "source": [
    "pprint.pprint(categories_Dict)"
   ]
  },
  {
   "cell_type": "code",
   "execution_count": 89,
   "metadata": {},
   "outputs": [],
   "source": [
    "driver.quit()"
   ]
  },
  {
   "cell_type": "code",
   "execution_count": null,
   "metadata": {},
   "outputs": [],
   "source": []
  }
 ],
 "metadata": {
  "kernelspec": {
   "display_name": "base",
   "language": "python",
   "name": "python3"
  },
  "language_info": {
   "codemirror_mode": {
    "name": "ipython",
    "version": 3
   },
   "file_extension": ".py",
   "mimetype": "text/x-python",
   "name": "python",
   "nbconvert_exporter": "python",
   "pygments_lexer": "ipython3",
   "version": "3.9.12"
  },
  "orig_nbformat": 4,
  "vscode": {
   "interpreter": {
    "hash": "c095e28c0380306a91dfcf91f5fd5762123fb83d5b68f6c5271d00cc634a65bf"
   }
  }
 },
 "nbformat": 4,
 "nbformat_minor": 2
}
